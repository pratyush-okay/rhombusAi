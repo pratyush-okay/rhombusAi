{
 "cells": [
  {
   "cell_type": "markdown",
   "metadata": {},
   "source": [
    "<h1> Pandas Data Type Inference and Conversion (Backend Task) </h1>"
   ]
  },
  {
   "cell_type": "code",
   "execution_count": 31,
   "metadata": {},
   "outputs": [],
   "source": [
    "import pandas as pd\n",
    "import numpy as np"
   ]
  },
  {
   "cell_type": "code",
   "execution_count": 51,
   "metadata": {},
   "outputs": [
    {
     "name": "stderr",
     "output_type": "stream",
     "text": [
      "/var/folders/xm/pvqw3jjj1zvb8k4_8681y4yc0000gn/T/ipykernel_93389/2006783432.py:1: FutureWarning: The argument 'infer_datetime_format' is deprecated and will be removed in a future version. A strict version of it is now the default, see https://pandas.pydata.org/pdeps/0004-consistent-to-datetime-parsing.html. You can safely remove this argument.\n",
      "  df = pd.read_csv('test.csv', parse_dates=True , infer_datetime_format=True, low_memory=False)\n"
     ]
    },
    {
     "data": {
      "text/html": [
       "<div>\n",
       "<style scoped>\n",
       "    .dataframe tbody tr th:only-of-type {\n",
       "        vertical-align: middle;\n",
       "    }\n",
       "\n",
       "    .dataframe tbody tr th {\n",
       "        vertical-align: top;\n",
       "    }\n",
       "\n",
       "    .dataframe thead th {\n",
       "        text-align: right;\n",
       "    }\n",
       "</style>\n",
       "<table border=\"1\" class=\"dataframe\">\n",
       "  <thead>\n",
       "    <tr style=\"text-align: right;\">\n",
       "      <th></th>\n",
       "      <th>year</th>\n",
       "      <th>industry_code_ANZSIC</th>\n",
       "      <th>industry_name_ANZSIC</th>\n",
       "      <th>rme_size_grp</th>\n",
       "      <th>variable</th>\n",
       "      <th>value</th>\n",
       "      <th>unit</th>\n",
       "    </tr>\n",
       "  </thead>\n",
       "  <tbody>\n",
       "    <tr>\n",
       "      <th>0</th>\n",
       "      <td>2011</td>\n",
       "      <td>A</td>\n",
       "      <td>Agriculture, Forestry and Fishing</td>\n",
       "      <td>a_0</td>\n",
       "      <td>Activity unit</td>\n",
       "      <td>46134</td>\n",
       "      <td>COUNT</td>\n",
       "    </tr>\n",
       "  </tbody>\n",
       "</table>\n",
       "</div>"
      ],
      "text/plain": [
       "   year industry_code_ANZSIC               industry_name_ANZSIC rme_size_grp  \\\n",
       "0  2011                    A  Agriculture, Forestry and Fishing          a_0   \n",
       "\n",
       "        variable  value   unit  \n",
       "0  Activity unit  46134  COUNT  "
      ]
     },
     "execution_count": 51,
     "metadata": {},
     "output_type": "execute_result"
    }
   ],
   "source": [
    "df = pd.read_csv('test.csv', parse_dates=True , infer_datetime_format=True, low_memory=False)\n",
    "df\n"
   ]
  },
  {
   "cell_type": "code",
   "execution_count": 52,
   "metadata": {},
   "outputs": [
    {
     "data": {
      "text/plain": [
       "year                    0\n",
       "industry_code_ANZSIC    0\n",
       "industry_name_ANZSIC    0\n",
       "rme_size_grp            0\n",
       "variable                0\n",
       "value                   0\n",
       "unit                    0\n",
       "dtype: int64"
      ]
     },
     "execution_count": 52,
     "metadata": {},
     "output_type": "execute_result"
    }
   ],
   "source": [
    "df.isna().sum()"
   ]
  },
  {
   "cell_type": "code",
   "execution_count": 58,
   "metadata": {},
   "outputs": [],
   "source": [
    "## helper functions\n",
    "def is_numeric(col: pd.Series):\n",
    "    series = col.dropna()\n",
    "    try:\n",
    "    # Attempt to convert to numeric first\n",
    "        return not all(pd.isna(pd.to_numeric(series, errors='coerce')))\n",
    "    except:\n",
    "        return False\n",
    "\n",
    "def is_float(col: pd.Series):\n",
    "    series = col.dropna()\n",
    "    try:\n",
    "        if (pd.to_numeric(series, errors='coerce') % 1 == 0).all():\n",
    "            return True\n",
    "    except:\n",
    "        return False\n",
    "\n",
    "def is_bool(col: pd.Series):\n",
    "    series = col.dropna()\n",
    "    if any(isinstance(value, bool) for value in series):\n",
    "        return True\n",
    "    \n",
    "    # Convert strings \"True\" and \"False\" to actual boolean values\n",
    "    series_lower = series.apply(lambda x: x.lower() if isinstance(x, str) else x)\n",
    "\n",
    "    # Check if all values are boolean after converting string representations\n",
    "    if any(value in {\"true\", \"False\"} for value in series_lower):\n",
    "        return True\n",
    "    \n",
    "    return False\n",
    "\n",
    "def is_category(col: pd.Series):\n",
    "    series = col.dropna()\n",
    "    if len(series.unique()) / len(series) <= 0.5:  # Example threshold for categorization\n",
    "        return True\n",
    "    return False\n",
    "\n",
    "def is_datetime(col: pd.Series):\n",
    "    series = col.dropna()\n",
    "    return any(series.apply(lambda x: pd.to_datetime(x, errors='coerce') is not pd.NaT))\n",
    "\n",
    "def is_timedelta(col: pd.Series):\n",
    "    series = col.dropna()\n",
    "    return any(series.apply(lambda x: pd.to_timedelta(x, errors='coerce') is not pd.NaT))\n",
    "\n",
    "def is_complex(col: pd.Series):\n",
    "    series = col.dropna()\n",
    "    return any(series.apply(lambda x: isinstance(x, complex) or isinstance(x, str) and '+' in x and 'j' in x))\n",
    "\n",
    " # Function to check if a value is null or NaN\n",
    "def is_null_or_nan(value):\n",
    "    return pd.isnull(value) or pd.isna(value)\n",
    "\n",
    "def clean_column(col: pd.Series):\n",
    "    series = col.dropna()\n",
    "    series = series.drop_duplicates()\n",
    "    return series\n"
   ]
  },
  {
   "cell_type": "code",
   "execution_count": 59,
   "metadata": {},
   "outputs": [
    {
     "name": "stdout",
     "output_type": "stream",
     "text": [
      "float\n",
      "object\n",
      "object\n",
      "object\n",
      "object\n",
      "float\n",
      "object\n",
      "['float', 'object', 'object', 'object', 'object', 'float', 'object']\n"
     ]
    }
   ],
   "source": [
    "## infer dtype of a column\n",
    "def infer_col_type(col: pd.Series):\n",
    "    if is_numeric(col):\n",
    "        if is_float(col=col):\n",
    "            return \"float\"\n",
    "        else:\n",
    "            return \"int\"\n",
    "    else:\n",
    "        if is_bool(col=col):\n",
    "            return \"boolean\"\n",
    "        elif is_category(col=col):\n",
    "            return \"category\"\n",
    "        elif is_datetime(col=col):\n",
    "            return \"datetime\"\n",
    "        elif is_complex(col=col):\n",
    "            return \"complex\"\n",
    "        elif is_timedelta(col=col):\n",
    "            return \"timedelta\"\n",
    "        elif is_datetime(col=col):\n",
    "            return \"datetime\"\n",
    "    \n",
    "    return \"object\"\n",
    "data_types_all = []           \n",
    "for col in df.columns:\n",
    "    data_types_all.append(infer_col_type(df[col]))\n",
    "    print(infer_col_type(df[col]))\n",
    "    \n",
    "    \n",
    "print(data_types_all)"
   ]
  },
  {
   "cell_type": "code",
   "execution_count": 50,
   "metadata": {},
   "outputs": [
    {
     "name": "stdout",
     "output_type": "stream",
     "text": [
      "\n",
      "Data types after inference:\n",
      "Name         object\n",
      "Birthdate    object\n",
      "Score        object\n",
      "Grade        object\n",
      "dtype: object\n"
     ]
    }
   ],
   "source": [
    "print(\"\\nData types after inference:\")\n",
    "print(df.dtypes)"
   ]
  },
  {
   "cell_type": "code",
   "execution_count": 10,
   "metadata": {},
   "outputs": [
    {
     "name": "stdout",
     "output_type": "stream",
     "text": [
      "\n",
      "Data types after inference:\n",
      "Name                 object\n",
      "Birthdate    datetime64[ns]\n",
      "Score               float64\n",
      "Grade              category\n",
      "dtype: object\n"
     ]
    }
   ],
   "source": [
    "def infer_and_convert_data_types(df):\n",
    "    for col in df.columns:\n",
    "        # Attempt to convert to numeric first\n",
    "        df_converted = pd.to_numeric(df[col], errors='coerce')\n",
    "        if not df_converted.isna().all():  # If at least one value is numeric\n",
    "            df[col] = df_converted\n",
    "            continue\n",
    "\n",
    "        # Attempt to convert to datetime\n",
    "        try:\n",
    "            df[col] = pd.to_datetime(df[col], format='%m/%d/%Y')\n",
    "            continue\n",
    "        except (ValueError, TypeError):\n",
    "            pass\n",
    "        \n",
    "\n",
    "        # Check if the column should be categorical\n",
    "        if len(df[col].unique()) / len(df[col]) < 0.5:  # Example threshold for categorization\n",
    "            df[col] = pd.Categorical(df[col])\n",
    "\n",
    "    return df\n",
    "\n",
    "df = infer_and_convert_data_types(df)\n",
    "\n",
    "print(\"\\nData types after inference:\")\n",
    "print(df.dtypes)"
   ]
  },
  {
   "cell_type": "code",
   "execution_count": 16,
   "metadata": {},
   "outputs": [
    {
     "data": {
      "text/html": [
       "<div>\n",
       "<style scoped>\n",
       "    .dataframe tbody tr th:only-of-type {\n",
       "        vertical-align: middle;\n",
       "    }\n",
       "\n",
       "    .dataframe tbody tr th {\n",
       "        vertical-align: top;\n",
       "    }\n",
       "\n",
       "    .dataframe thead th {\n",
       "        text-align: right;\n",
       "    }\n",
       "</style>\n",
       "<table border=\"1\" class=\"dataframe\">\n",
       "  <thead>\n",
       "    <tr style=\"text-align: right;\">\n",
       "      <th></th>\n",
       "      <th>Name</th>\n",
       "      <th>Birthdate</th>\n",
       "      <th>Score</th>\n",
       "      <th>Grade</th>\n",
       "    </tr>\n",
       "  </thead>\n",
       "  <tbody>\n",
       "    <tr>\n",
       "      <th>0</th>\n",
       "      <td>Alice</td>\n",
       "      <td>1/01/1990</td>\n",
       "      <td>90</td>\n",
       "      <td>A</td>\n",
       "    </tr>\n",
       "    <tr>\n",
       "      <th>1</th>\n",
       "      <td>Bob</td>\n",
       "      <td>2/02/1991</td>\n",
       "      <td>75</td>\n",
       "      <td>B</td>\n",
       "    </tr>\n",
       "    <tr>\n",
       "      <th>2</th>\n",
       "      <td>Charlie</td>\n",
       "      <td>3/03/1992</td>\n",
       "      <td>85</td>\n",
       "      <td>A</td>\n",
       "    </tr>\n",
       "    <tr>\n",
       "      <th>3</th>\n",
       "      <td>David</td>\n",
       "      <td>4/04/1993</td>\n",
       "      <td>70</td>\n",
       "      <td>B</td>\n",
       "    </tr>\n",
       "    <tr>\n",
       "      <th>4</th>\n",
       "      <td>Eve</td>\n",
       "      <td>5/05/1994</td>\n",
       "      <td>Not Available</td>\n",
       "      <td>A</td>\n",
       "    </tr>\n",
       "  </tbody>\n",
       "</table>\n",
       "</div>"
      ],
      "text/plain": [
       "      Name  Birthdate          Score Grade\n",
       "0    Alice  1/01/1990             90     A\n",
       "1      Bob  2/02/1991             75     B\n",
       "2  Charlie  3/03/1992             85     A\n",
       "3    David  4/04/1993             70     B\n",
       "4      Eve  5/05/1994  Not Available     A"
      ]
     },
     "execution_count": 16,
     "metadata": {},
     "output_type": "execute_result"
    }
   ],
   "source": [
    "df"
   ]
  },
  {
   "cell_type": "code",
   "execution_count": null,
   "metadata": {},
   "outputs": [],
   "source": []
  },
  {
   "cell_type": "code",
   "execution_count": null,
   "metadata": {},
   "outputs": [],
   "source": [
    "##### CODE DUMP : DO NOT RUN "
   ]
  },
  {
   "cell_type": "code",
   "execution_count": 235,
   "metadata": {},
   "outputs": [],
   "source": [
    "## helper functions\n",
    "def is_numeric(col: pd.Series):\n",
    "    series = clean_column(col)\n",
    "    try:\n",
    "    # Attempt to convert to numeric first\n",
    "        return not all(pd.isna(pd.to_numeric(series, errors='coerce')))\n",
    "    except:\n",
    "        return False\n",
    "\n",
    "def is_float(col: pd.Series):\n",
    "    series = clean_column(col)\n",
    "    try:\n",
    "        if (pd.to_numeric(series, errors='coerce') % 1 == 0).all():\n",
    "            return True\n",
    "    except:\n",
    "        return False\n",
    "\n",
    "def is_bool(col: pd.Series):\n",
    "    series = clean_column(col)\n",
    "    if any(isinstance(value, bool) for value in series):\n",
    "        return True\n",
    "    \n",
    "    # Convert strings \"True\" and \"False\" to actual boolean values\n",
    "    series_lower = series.apply(lambda x: x.lower() if isinstance(x, str) else x)\n",
    "\n",
    "    # Check if all values are boolean after converting string representations\n",
    "    if any(value in {\"true\", \"False\"} for value in series_lower):\n",
    "        return True\n",
    "    \n",
    "    return False\n",
    "\n",
    "def convert_to_bool(col: pd.Series) -> pd.Series:\n",
    "    series = col\n",
    "    if any(isinstance(value, bool) for value in series):\n",
    "        return series\n",
    "    series = series.fillna(\"false\")\n",
    "    # Convert strings \"True\" and \"False\" to actual boolean values\n",
    "    series = series.map(lambda x: True if x.lower() == 'true' else (False if x.lower() == 'false' else x))\n",
    "    return series\n",
    "\n",
    "def convert_to_complex(col: pd.Series) -> pd.Series:\n",
    "    series = col\n",
    "    if any(isinstance(value, complex) for value in series):\n",
    "        return series\n",
    "    series = series.fillna(complex(0))\n",
    "    # Convert strings \"True\" and \"False\" to actual boolean values\n",
    "    series = series.map(lambda x: complex(x) if (isinstance(x, str) and ('+' in x or '-' in x) and 'j' in x) or (is_numeric(pd.Series([x]))) else complex(0))\n",
    "    return series\n",
    "\n",
    "def is_category(col: pd.Series):\n",
    "    series = col.dropna()\n",
    "    if len(series.unique()) / len(series) <= 0.5:  # Example threshold for categorization\n",
    "        return True\n",
    "    return False\n",
    "\n",
    "def is_datetime(col: pd.Series):\n",
    "    series = clean_column(col)\n",
    "    return any(series.apply(lambda x: pd.to_datetime(x, errors='coerce') is not pd.NaT))\n",
    "\n",
    "def is_timedelta(col: pd.Series):\n",
    "    series = clean_column(col)\n",
    "    return any(series.apply(lambda x: pd.to_timedelta(x, errors='coerce') is not pd.NaT))\n",
    "\n",
    "def is_complex(col: pd.Series):\n",
    "    series = clean_column(col)\n",
    "    return any(series.apply(lambda x: isinstance(x, complex) or isinstance(x, str) and '+' in x and 'j' in x))\n",
    "\n",
    " # Function to check if a value is null or NaN\n",
    "def is_null_or_nan(value):\n",
    "    return pd.isnull(value) or pd.isna(value)\n",
    "\n",
    "def clean_column(col: pd.Series):\n",
    "    series = col.dropna()\n",
    "    series = series.drop_duplicates()\n",
    "    return series\n"
   ]
  },
  {
   "cell_type": "code",
   "execution_count": null,
   "metadata": {},
   "outputs": [],
   "source": [
    "## test block\n",
    "# any(pd.isna(pd.to_numeric(pd.Series([1,2]), errors='coerce')))\n",
    "# all(pd.isna(pd.to_numeric(pd.Series([\"noo\",\"1\"]), errors='coerce')))\n",
    "# is_numeric(pd.Series([pd.NA,\"lala\"]))\n",
    "# is_complex(pd.Series(['3+4jj', '5-6jj', 'Not available', '7+8jj']))\n",
    "is_timedelta(pd.Series([\"1 days 00:00:00\"]))\n",
    "convert_to_bool(pd.Series([\"true\",\"false\", pd.NA]))\n",
    "convert_to_complex(pd.Series(['3+4j', '5-6j', 'Not available']))\n",
    "pd.Categorical([1,\"d\", \"c\"])"
   ]
  },
  {
   "cell_type": "code",
   "execution_count": 1,
   "metadata": {},
   "outputs": [
    {
     "ename": "NameError",
     "evalue": "name 'pd' is not defined",
     "output_type": "error",
     "traceback": [
      "\u001b[0;31m---------------------------------------------------------------------------\u001b[0m",
      "\u001b[0;31mNameError\u001b[0m                                 Traceback (most recent call last)",
      "Cell \u001b[0;32mIn[1], line 2\u001b[0m\n\u001b[1;32m      1\u001b[0m \u001b[38;5;66;03m## infer dtype of a column\u001b[39;00m\n\u001b[0;32m----> 2\u001b[0m \u001b[38;5;28;01mdef\u001b[39;00m \u001b[38;5;21minfer_col_type\u001b[39m(col: \u001b[43mpd\u001b[49m\u001b[38;5;241m.\u001b[39mSeries):\n\u001b[1;32m      3\u001b[0m     \u001b[38;5;28;01mif\u001b[39;00m is_numeric(col):\n\u001b[1;32m      4\u001b[0m         \u001b[38;5;28;01mif\u001b[39;00m is_float(col\u001b[38;5;241m=\u001b[39mcol):\n",
      "\u001b[0;31mNameError\u001b[0m: name 'pd' is not defined"
     ]
    }
   ],
   "source": [
    "\n",
    "## infer dtype of a column\n",
    "def infer_col_type(col: pd.Series):\n",
    "    if is_numeric(col):\n",
    "        if is_float(col=col):\n",
    "            return pd.to_numeric(col, downcast=\"float\", errors='coerce')\n",
    "        else:\n",
    "            return pd.to_numeric(col, downcast=\"integer\",errors='coerce')\n",
    "    else:\n",
    "        if is_bool(col=col):\n",
    "            return convert_to_bool(col=col)\n",
    "        elif is_category(col=col):\n",
    "            return pd.Categorical(col)\n",
    "        elif is_datetime(col=col):\n",
    "            return pd.to_datetime(col, errors='coerce')\n",
    "        elif is_complex(col=col):\n",
    "            return convert_to_complex(col)\n",
    "        elif is_timedelta(col=col):\n",
    "            return pd.to_timedelta(col, errors='coerce')\n",
    "    \n",
    "    return \"object\"\n",
    "            \n",
    "for col in df.columns:\n",
    "    df[col] = infer_col_type(df[col])\n",
    "df.info()"
   ]
  }
 ],
 "metadata": {
  "kernelspec": {
   "display_name": "Python 3",
   "language": "python",
   "name": "python3"
  },
  "language_info": {
   "codemirror_mode": {
    "name": "ipython",
    "version": 3
   },
   "file_extension": ".py",
   "mimetype": "text/x-python",
   "name": "python",
   "nbconvert_exporter": "python",
   "pygments_lexer": "ipython3",
   "version": "3.9.6"
  }
 },
 "nbformat": 4,
 "nbformat_minor": 2
}
